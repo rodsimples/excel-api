{
  "nbformat": 4,
  "nbformat_minor": 0,
  "metadata": {
    "colab": {
      "provenance": [],
      "toc_visible": true,
      "authorship_tag": "ABX9TyMmRYdXkaIvgfa4CUu+r+5x",
      "include_colab_link": true
    },
    "kernelspec": {
      "name": "python3",
      "display_name": "Python 3"
    },
    "language_info": {
      "name": "python"
    }
  },
  "cells": [
    {
      "cell_type": "markdown",
      "metadata": {
        "id": "view-in-github",
        "colab_type": "text"
      },
      "source": [
        "<a href=\"https://colab.research.google.com/github/rodsimples/excel-api/blob/main/Curso_Simples_Script_Vendas.ipynb\" target=\"_parent\"><img src=\"https://colab.research.google.com/assets/colab-badge.svg\" alt=\"Open In Colab\"/></a>"
      ]
    },
    {
      "cell_type": "code",
      "source": [
        "# prompt: # Módulo 1: Compreendendo a Antecipação do Saque do FGTS\n",
        "# ## O que é?\n",
        "# A antecipação do saque do FGTS permite que trabalhadores com saldo no Fundo de Garantia recebam parte do valor futuro de forma antecipada. É como um empréstimo garantido pelo FGTS.\n",
        "# ### Quem pode solicitar?\n",
        "# - Trabalhadores com 18 anos ou mais.\n",
        "# - Saldo disponível nas contas do FGTS.\n",
        "# - Optaram pela modalidade Saque-Aniversário.\n",
        "# ### Vantagens:\n",
        "# 1. Flexibilidade financeira para quitar dívidas, investir ou realizar sonhos.\n",
        "# 2. Juros baixos em comparação a outros créditos.\n",
        "# 3. Desconto direto do FGTS, sem impactar a renda mensal.\n",
        "# 4. Processo rápido e online.\n",
        "# ### Modalidades:\n",
        "# - Antecipação do Saque-Aniversário: Receba até 12 parcelas anuais de uma só vez!\n",
        "\n",
        "# This code does nothing with the provided text.\n",
        "# The text appears to be documentation or explanatory text.\n",
        "# To use this text programmatically, you would need to define\n",
        "# how you want to work with it (e.g., store it in a variable,\n",
        "# parse it, etc.)\n",
        "\n",
        "# Example of storing the text in a variable:\n",
        "text_data = \"\"\"\n",
        "# Módulo 1: Compreendendo a Antecipação do Saque do FGTS\n",
        "## O que é?\n",
        "A antecipação do saque do FGTS permite que trabalhadores com saldo no Fundo de Garantia recebam parte do valor futuro de forma antecipada. É como um empréstimo garantido pelo FGTS.\n",
        "### Quem pode solicitar?\n",
        "- Trabalhadores com 18 anos ou mais.\n",
        "- Saldo disponível nas contas do FGTS.\n",
        "- Optaram pela modalidade Saque-Aniversário.\n",
        "### Vantagens:\n",
        "1. Flexibilidade financeira para quitar dívidas, investir ou realizar sonhos.\n",
        "2. Juros baixos em comparação a outros créditos.\n",
        "3. Desconto direto do FGTS, sem impactar a renda mensal.\n",
        "4. Processo rápido e online.\n",
        "### Modalidades:\n",
        "- Antecipação do Saque-Aniversário: Receba até 12 parcelas anuais de uma só vez!\n",
        "\"\"\"\n",
        "\n",
        "# You could then process this text_data variable using other Python modules,\n",
        "# such as regular expressions or Natural Language Processing libraries.\n",
        "\n",
        "# Example of printing the stored text (same as provided input)\n",
        "# print(text_data)"
      ],
      "metadata": {
        "id": "j5g3aPkIviUM"
      },
      "execution_count": null,
      "outputs": []
    },
    {
      "cell_type": "markdown",
      "source": [
        "# Quiz sobre conceitos"
      ],
      "metadata": {
        "id": "ch3Dx9you1qj"
      }
    },
    {
      "cell_type": "code",
      "source": [
        "# Quiz: Quem pode solicitar a antecipação do FGTS?\n",
        "print(\"Pergunta: Quem pode solicitar a antecipação do saque do FGTS?\")\n",
        "print(\"1. Qualquer pessoa maior de 18 anos.\")\n",
        "print(\"2. Trabalhadores com saldo no FGTS e optantes pelo Saque-Aniversário.\")\n",
        "print(\"3. Apenas trabalhadores CLT.\")\n",
        "\n",
        "resposta = input(\"Digite o número correspondente à sua resposta: \")\n",
        "\n",
        "if resposta == \"2\":\n",
        "    print(\"Correto! Somente trabalhadores com saldo no FGTS e optantes pelo Saque-Aniversário podem solicitar.\")\n",
        "else:\n",
        "    print(\"Resposta incorreta. Revise o material e tente novamente.\")\n"
      ],
      "metadata": {
        "colab": {
          "base_uri": "https://localhost:8080/"
        },
        "id": "1ikPw__5uvVD",
        "outputId": "d110014e-50ac-4764-f9d7-bd61491701d2"
      },
      "execution_count": null,
      "outputs": [
        {
          "metadata": {
            "tags": null
          },
          "name": "stdout",
          "output_type": "stream",
          "text": [
            "Pergunta: Quem pode solicitar a antecipação do saque do FGTS?\n",
            "1. Qualquer pessoa maior de 18 anos.\n",
            "2. Trabalhadores com saldo no FGTS e optantes pelo Saque-Aniversário.\n",
            "3. Apenas trabalhadores CLT.\n"
          ]
        }
      ]
    },
    {
      "cell_type": "markdown",
      "source": [
        "# Script de Vendas"
      ],
      "metadata": {
        "id": "ARG7R5CEv4In"
      }
    },
    {
      "cell_type": "code",
      "source": [
        "# prompt: # Módulo 2: Scripts de Venda\n",
        "# ## Abordagem Inicial\n",
        "# # Exercício: Crie sua abordagem inicial\n",
        "# sua_abordagem = input(\"Digite sua frase de abordagem inicial: \")\n",
        "# print(f\"Sua abordagem: {sua_abordagem}. Lembre-se de adaptar ao perfil do cliente!\")\n",
        "# - \"Olá, [nome do cliente]! Tudo bem? Você sabia que pode antecipar o saque do FGTS sem esperar pelo seu aniversário?\"\n",
        "# ## Sondagem de Necessidades\n",
        "# - \"Quais são seus planos para o futuro? Tem algum projeto em mente?\"\n",
        "# - \"Está enfrentando dificuldades financeiras? A antecipação do FGTS pode ser a solução.\"\n",
        "# ### Atividade:\n",
        "# Crie sua própria abordagem inicial:\n",
        "# - Preencha o espaço abaixo com uma frase para abordar um cliente sobre a antecipação do saque do FGTS.\n",
        "\n",
        "# This code now incorporates the provided text and adds a new script section.\n",
        "# It uses the text_data variable to answer a question about FGTS.\n",
        "\n",
        "text_data = \"\"\"\n",
        "# Módulo 1: Compreendendo a Antecipação do Saque do FGTS\n",
        "## O que é?\n",
        "A antecipação do saque do FGTS permite que trabalhadores com saldo no Fundo de Garantia recebam parte do valor futuro de forma antecipada. É como um empréstimo garantido pelo FGTS.\n",
        "### Quem pode solicitar?\n",
        "- Trabalhadores com 18 anos ou mais.\n",
        "- Saldo disponível nas contas do FGTS.\n",
        "- Optaram pela modalidade Saque-Aniversário.\n",
        "### Vantagens:\n",
        "1. Flexibilidade financeira para quitar dívidas, investir ou realizar sonhos.\n",
        "2. Juros baixos em comparação a outros créditos.\n",
        "3. Desconto direto do FGTS, sem impactar a renda mensal.\n",
        "4. Processo rápido e online.\n",
        "### Modalidades:\n",
        "- Antecipação do Saque-Aniversário: Receba até 12 parcelas anuais de uma só vez!\n",
        "\"\"\"\n",
        "\n",
        "print(\"Pergunta: Quem pode solicitar a antecipação do saque do FGTS?\")\n",
        "print(\"1. Qualquer pessoa maior de 18 anos.\")\n",
        "print(\"2. Trabalhadores com saldo no FGTS e optantes pelo Saque-Aniversário.\")\n",
        "print(\"3. Apenas trabalhadores CLT.\")\n",
        "\n",
        "resposta = input(\"Digite o número correspondente à sua resposta: \")\n",
        "\n",
        "if resposta == \"2\":\n",
        "    print(\"Correto! Somente trabalhadores com saldo no FGTS e optantes pelo Saque-Aniversário podem solicitar.\")\n",
        "else:\n",
        "    print(\"Resposta incorreta. Revise o material e tente novamente.\")\n",
        "\n",
        "\n",
        "# Módulo 2: Scripts de Venda\n",
        "# Abordagem Inicial\n",
        "# Exercício: Crie sua abordagem inicial\n",
        "\n",
        "sua_abordagem = input(\"Digite sua frase de abordagem inicial para a antecipação do FGTS: \")\n",
        "print(f\"Sua abordagem: {sua_abordagem}. Lembre-se de adaptar ao perfil do cliente!\")"
      ],
      "metadata": {
        "id": "F_ZoEkS7v_5r"
      },
      "execution_count": null,
      "outputs": []
    },
    {
      "cell_type": "markdown",
      "source": [
        "# Simulação de Objeções"
      ],
      "metadata": {
        "id": "eoRliVHIwG0x"
      }
    },
    {
      "cell_type": "code",
      "source": [
        "# prompt: ### Superando Objeções\n",
        "# Cliente: \"Estou com o nome sujo, posso fazer?\"\n",
        "# Resposta: \"Sim! Trabalhamos com crédito para negativados.\"\n",
        "# Cliente: \"Qual a taxa de juros?\"\n",
        "# Resposta: \"Varia conforme o valor e prazo, mas oferecemos as melhores condições do mercado.\"\n",
        "# # Exercício: Pratique responder a objeções\n",
        "# print(\"Cliente: 'Tenho medo de ficar sem o dinheiro do FGTS no futuro.'\")\n",
        "# resposta = input(\"Digite sua resposta: \")\n",
        "# if \"você continua com acesso ao saldo restante\" in resposta.lower():\n",
        "#     print(\"Ótima resposta! Destaque que o cliente mantém acesso ao restante do saldo.\")\n",
        "# else:\n",
        "#     print(\"Revise o material para reforçar seu argumento.\")\n",
        "\n",
        "print(\"Cliente: 'Tenho medo de ficar sem o dinheiro do FGTS no futuro.'\")\n",
        "resposta = input(\"Digite sua resposta: \")\n",
        "if \"você continua com acesso ao saldo restante\" in resposta.lower():\n",
        "    print(\"Ótima resposta! Destaque que o cliente mantém acesso ao restante do saldo.\")\n",
        "else:\n",
        "    print(\"Revise o material para reforçar seu argumento.\")"
      ],
      "metadata": {
        "id": "VePvjg51wc8w"
      },
      "execution_count": null,
      "outputs": []
    },
    {
      "cell_type": "code",
      "source": [
        "### Superando Objeções\n",
        "Cliente: \"Estou com o nome sujo, posso fazer?\"\n",
        "Resposta: \"Sim! Trabalhamos com crédito para negativados.\"\n",
        "\n",
        "Cliente: \"Qual a taxa de juros?\"\n",
        "Resposta: \"Varia conforme o valor e prazo, mas oferecemos as melhores condições do mercado.\"\n"
      ],
      "metadata": {
        "id": "r7eAjciNwXPB"
      },
      "execution_count": null,
      "outputs": []
    },
    {
      "cell_type": "markdown",
      "source": [
        "# Frases e Argumentos de Impacto"
      ],
      "metadata": {
        "id": "JxunxpR3wsbB"
      }
    },
    {
      "cell_type": "code",
      "source": [
        "# prompt: # Módulo 3: Frases e Argumentos de Impacto\n",
        "# ## Frases que geram conexão:\n",
        "# - \"Realize seus sonhos agora, sem esperar!\"\n",
        "# - \"Tenha mais tranquilidade financeira com a antecipação do FGTS.\"\n",
        "# ## Argumentos que convencem:\n",
        "# - \"Juros baixos e condições flexíveis.\"\n",
        "# - \"Processo 100% online e rápido.\"\n",
        "# # Exercício: Crie uma frase de impacto\n",
        "# frase = input(\"Escreva uma frase que conecte com o cliente: \")\n",
        "# print(f\"Frase criada: {frase}. Excelente! Certifique-se de que seja clara e empática.\")\n",
        "\n",
        "# Frases e Argumentos de Impacto (continuation of previous code)\n",
        "\n",
        "## Frases que geram conexão:\n",
        "# - \"Realize seus sonhos agora, sem esperar!\"\n",
        "# - \"Tenha mais tranquilidade financeira com a antecipação do FGTS.\"\n",
        "## Argumentos que convencem:\n",
        "# - \"Juros baixos e condições flexíveis.\"\n",
        "# - \"Processo 100% online e rápido.\"\n",
        "# Exercício: Crie uma frase de impacto\n",
        "\n",
        "frase = input(\"Escreva uma frase que conecte com o cliente: \")\n",
        "print(f\"Frase criada: {frase}. Excelente! Certifique-se de que seja clara e empática.\")"
      ],
      "metadata": {
        "id": "jhjqaC1zwvX0"
      },
      "execution_count": null,
      "outputs": []
    },
    {
      "cell_type": "markdown",
      "source": [
        "# Dicas Essenciais"
      ],
      "metadata": {
        "id": "z8lxWHTlw8pv"
      }
    },
    {
      "cell_type": "code",
      "source": [
        "# prompt: # Módulo 4: Dicas Essenciais\n",
        "# ## Seja consultor, não vendedor\n",
        "# Demonstre interesse genuíno em ajudar o cliente. A relação de confiança é a chave para vendas recorrentes.\n",
        "# ## Explique com clareza\n",
        "# Use uma linguagem simples e evite jargões técnicos.\n",
        "# ## Relacionamento e Pós-venda\n",
        "# Ofereça suporte ao cliente mesmo após a venda.\n",
        "\n",
        "# Módulo 4: Dicas Essenciais\n",
        "dicas_essenciais = \"\"\"\n",
        "## Seja consultor, não vendedor\n",
        "Demonstre interesse genuíno em ajudar o cliente. A relação de confiança é a chave para vendas recorrentes.\n",
        "## Explique com clareza\n",
        "Use uma linguagem simples e evite jargões técnicos.\n",
        "## Relacionamento e Pós-venda\n",
        "Ofereça suporte ao cliente mesmo após a venda.\n",
        "\"\"\"\n",
        "\n",
        "print(dicas_essenciais)\n",
        "\n",
        "# Exercício: Simulação de atendimento ao cliente\n",
        "objecoes = {\n",
        "    \"medo de ficar sem dinheiro\": \"Você continua com acesso ao saldo restante do FGTS, garantindo tranquilidade para o futuro.\",\n",
        "    \"nome sujo\": \"Sim! Trabalhamos com crédito para negativados. Nossa equipe irá analisar seu caso individualmente.\",\n",
        "    \"taxa de juros\": \"A taxa varia de acordo com o valor e o prazo, mas oferecemos as melhores condições do mercado. Entre em contato para uma simulação personalizada.\"\n",
        "}\n",
        "\n",
        "print(\"\\nSimulação de atendimento:\\n\")\n",
        "objeção_cliente = input(\"Digite a objeção do cliente: \")\n",
        "\n",
        "if objeção_cliente.lower() in [key.lower() for key in objecoes]:\n",
        "  resposta_padrao = objecoes.get(objeção_cliente.lower())\n",
        "  print(\"Resposta sugerida:\", resposta_padrao)\n",
        "else:\n",
        "  print(\"Objeção não cadastrada. Tente novamente ou consulte o material de suporte.\")"
      ],
      "metadata": {
        "id": "bMZzbWLcw_5h"
      },
      "execution_count": null,
      "outputs": []
    }
  ]
}